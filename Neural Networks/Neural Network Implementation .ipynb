{
 "cells": [
  {
   "cell_type": "code",
   "execution_count": 97,
   "metadata": {},
   "outputs": [],
   "source": [
    "import pandas as pd\n",
    "import matplotlib.pyplot as plt\n",
    "import numpy as np\n",
    "import h5py\n",
    "from sklearn.metrics import accuracy_score"
   ]
  },
  {
   "cell_type": "code",
   "execution_count": 2,
   "metadata": {},
   "outputs": [],
   "source": [
    "data_train = h5py.File(r\"C:\\Users\\Haris\\Desktop\\Python Files\\Cat image data\\train_catvnoncat.h5\",'r')\n",
    "data_test  = h5py.File(r\"C:\\Users\\Haris\\Desktop\\Python Files\\Cat image data\\test_catvnoncat.h5\",'r')"
   ]
  },
  {
   "cell_type": "code",
   "execution_count": 3,
   "metadata": {},
   "outputs": [
    {
     "data": {
      "text/plain": [
       "<KeysViewHDF5 ['list_classes', 'train_set_x', 'train_set_y']>"
      ]
     },
     "execution_count": 3,
     "metadata": {},
     "output_type": "execute_result"
    }
   ],
   "source": [
    "data_train.keys()"
   ]
  },
  {
   "cell_type": "code",
   "execution_count": 4,
   "metadata": {},
   "outputs": [
    {
     "data": {
      "text/plain": [
       "<KeysViewHDF5 ['list_classes', 'test_set_x', 'test_set_y']>"
      ]
     },
     "execution_count": 4,
     "metadata": {},
     "output_type": "execute_result"
    }
   ],
   "source": [
    "data_test.keys()"
   ]
  },
  {
   "cell_type": "code",
   "execution_count": 5,
   "metadata": {},
   "outputs": [],
   "source": [
    "train_x , train_y = np.array(data_train['train_set_x']) , np.array(data_train['train_set_y'])\n",
    "test_x , test_y   = np.array(data_test['test_set_x']) , np.array(data_test['test_set_y'])"
   ]
  },
  {
   "cell_type": "code",
   "execution_count": 6,
   "metadata": {},
   "outputs": [
    {
     "name": "stdout",
     "output_type": "stream",
     "text": [
      "Train set dimensions:\n",
      "train_x: (209, 64, 64, 3) train_y: (209,)\n",
      "Data Examples: 209 Features: 12288\n",
      "Test set dimensions:\n",
      "test_x: (50, 64, 64, 3) test_y: (50,)\n"
     ]
    }
   ],
   "source": [
    "print('Train set dimensions:')\n",
    "print('train_x:',train_x.shape, 'train_y:',train_y.shape)\n",
    "print('Data Examples:',train_x.shape[0],'Features:',train_x.shape[1]*train_x.shape[2]*train_x.shape[3])\n",
    "print('Test set dimensions:')\n",
    "print('test_x:',test_x.shape, 'test_y:',test_y.shape)"
   ]
  },
  {
   "cell_type": "markdown",
   "metadata": {},
   "source": [
    "<h3>1 - DataSet Processing</h3>"
   ]
  },
  {
   "cell_type": "code",
   "execution_count": 7,
   "metadata": {},
   "outputs": [
    {
     "name": "stdout",
     "output_type": "stream",
     "text": [
      "Y: 1 It is a cat\n"
     ]
    },
    {
     "data": {
      "image/png": "[encoded data removed]",
      "text/plain": [
       "<Figure size 432x288 with 1 Axes>"
      ]
     },
     "metadata": {
      "needs_background": "light"
     },
     "output_type": "display_data"
    }
   ],
   "source": [
    "#displaying image\n",
    "classes = ['not a cat','cat']\n",
    "index = np.random.randint(209)\n",
    "plt.imshow( train_x[index] )\n",
    "print('Y:',train_y[index],'It is a',classes[train_y[index]])"
   ]
  },
  {
   "cell_type": "code",
   "execution_count": 8,
   "metadata": {},
   "outputs": [
    {
     "name": "stdout",
     "output_type": "stream",
     "text": [
      "New dimension of train_x: (12288, 209)\n",
      "New dimension of train_y: (1, 209)\n",
      "New dimension of test_x: (12288, 50)\n",
      "New dimension of test_x: (1, 50)\n"
     ]
    }
   ],
   "source": [
    "#data arrangement in form of arrays\n",
    "train_x_array = train_x.reshape(train_x.shape[0], -1).T\n",
    "train_y_array = train_y.reshape(train_y.shape[0], -1).T\n",
    "test_x_array = test_x.reshape(test_x.shape[0], -1).T\n",
    "test_y_array = test_y.reshape(test_y.shape[0], -1).T\n",
    "\n",
    "print('New dimension of train_x:',train_x_array.shape)\n",
    "\n",
    "print('New dimension of train_y:',train_y_array.shape)\n",
    "\n",
    "print('New dimension of test_x:',test_x_array.shape)\n",
    "\n",
    "print('New dimension of test_x:',test_y_array.shape)"
   ]
  },
  {
   "cell_type": "code",
   "execution_count": 9,
   "metadata": {},
   "outputs": [],
   "source": [
    "#for image it's better to normalize it. It provides better results.\n",
    "train_set_x = train_x_array / 255\n",
    "\n",
    "test_set_x = test_x_array / 255"
   ]
  },
  {
   "cell_type": "markdown",
   "metadata": {},
   "source": [
    "<h3>2 - Neural Network Architecture </h3>"
   ]
  },
  {
   "cell_type": "markdown",
   "metadata": {},
   "source": [
    "<p>The neural network will have following structure</p>\n",
    "<li>Two hidden layers\n",
    "<li>5 nodes per layer\n",
    "<li>sigmoid activation function"
   ]
  },
  {
   "cell_type": "markdown",
   "metadata": {},
   "source": [
    "<h3>3 - Making helper modules</h3>"
   ]
  },
  {
   "cell_type": "markdown",
   "metadata": {},
   "source": [
    "<p>Following will be the steps:</p>\n",
    "<li>initialize weights\n",
    "<li>sigmoid function (for outer layer)\n",
    "<li>tanh function (activation for inner layer)\n",
    "<li>Forward Propagation\n",
    "<li>Compute the cost\n",
    "<li>Backward Propagation"
   ]
  },
  {
   "cell_type": "code",
   "execution_count": 40,
   "metadata": {},
   "outputs": [],
   "source": [
    "#h1 h2 are hidden layers 1 and 2\n",
    "def initialize_parameters(x,h1,h2,y):\n",
    "    \n",
    "    W1 = np.random.randn(h1,x) * 0.01\n",
    "    b1 = np.zeros((h1,1))\n",
    "    W2 = np.random.randn(h2,h1) * 0.01\n",
    "    b2 = np.zeros((h2,1))\n",
    "    W3 = np.random.randn(y,h2) * 0.01\n",
    "    b3 = np.zeros((y,1))\n",
    "    \n",
    "    parameters = {'W1': W1,\n",
    "                  'b1': b1,\n",
    "                  'W2': W2,\n",
    "                  'b2': b2,\n",
    "                  'W3': W3,\n",
    "                  'b3': b3\n",
    "                  }\n",
    "    return parameters"
   ]
  },
  {
   "cell_type": "markdown",
   "metadata": {},
   "source": [
    "**Mathematical expression of the algorithm**:\n",
    "\n",
    "For one example $x^{(i)}$:\n",
    "$$z^{(i)} = w^T x^{(i)} + b \\tag{1}$$\n",
    "$$\\hat{y}^{(i)} = a^{(i)} = sigmoid(z^{(i)})\\tag{2}$$ \n",
    "$$ \\mathcal{L}(a^{(i)}, y^{(i)}) =  - y^{(i)}  \\log(a^{(i)}) - (1-y^{(i)} )  \\log(1-a^{(i)})\\tag{3}$$\n",
    "\n",
    "The cost is then computed by summing over all training examples:\n",
    "$$ J = \\frac{1}{m} \\sum_{i=1}^m \\mathcal{L}(a^{(i)}, y^{(i)})\\tag{6}$$\n"
   ]
  },
  {
   "cell_type": "code",
   "execution_count": 41,
   "metadata": {},
   "outputs": [],
   "source": [
    "def tanh (Z):\n",
    "    return np.tanh (Z)"
   ]
  },
  {
   "cell_type": "code",
   "execution_count": 42,
   "metadata": {},
   "outputs": [],
   "source": [
    "def tanh_d(Z):\n",
    "    return 1 - np.power(np.tanh(Z),2)"
   ]
  },
  {
   "cell_type": "code",
   "execution_count": 43,
   "metadata": {},
   "outputs": [],
   "source": [
    "def sigmoid(Z):\n",
    "    \n",
    "    sig = 1/(1 + np.exp(-Z))\n",
    "    \n",
    "    return sig"
   ]
  },
  {
   "cell_type": "code",
   "execution_count": 44,
   "metadata": {},
   "outputs": [],
   "source": [
    "#Test point\n",
    "assert(sigmoid(-1) == (1/ (1 + np.exp(1)))) #error running this tab indicates fault"
   ]
  },
  {
   "cell_type": "code",
   "execution_count": 45,
   "metadata": {},
   "outputs": [],
   "source": [
    "def sigmoid_d(Z):\n",
    "    \n",
    "    sig_d = sigmoid(Z) * (1 - sigmoid (Z))\n",
    "    \n",
    "    return sig_d"
   ]
  },
  {
   "cell_type": "code",
   "execution_count": 46,
   "metadata": {},
   "outputs": [],
   "source": [
    "def forward_prop(X, parameters):\n",
    "    \n",
    "    W1 = parameters['W1']\n",
    "    b1 = parameters['b1']\n",
    "    W2 = parameters['W2']\n",
    "    b2 = parameters['b2']\n",
    "    W3 = parameters['W3']\n",
    "    b3 = parameters['b3']\n",
    "    \n",
    "    # layer 1 (#Z1 is the linear operation of layer 1 and A1 is activation of layer 1)\n",
    "    \n",
    "    Z1 = W1 @ X + b1    \n",
    "    \n",
    "    A1 = tanh (Z1)  \n",
    "    \n",
    "    #layer 2\n",
    "    Z2 = W2 @ A1 + b2\n",
    "    \n",
    "    A2 = tanh (Z2)\n",
    "    \n",
    "    #layer3(output layer)\n",
    "    Z3 = W3 @ A2 + b3\n",
    "    \n",
    "    A3 = sigmoid (Z3)\n",
    "    \n",
    "    \n",
    "    cache = {'Z1':Z1,\n",
    "             'A1':A1,\n",
    "             'Z2':Z2,\n",
    "             'A2':A2,  \n",
    "             'Z3':Z3,\n",
    "             'A3':A3 }\n",
    "    \n",
    "    return cache"
   ]
  },
  {
   "cell_type": "code",
   "execution_count": 47,
   "metadata": {},
   "outputs": [],
   "source": [
    "def cost_computation(A3, Y):\n",
    "    \n",
    "    m = Y.shape[1]\n",
    "    \n",
    "    J = - ( (Y) @ np.log(A3).T + (1-Y) @ np.log(1 - A3).T )\n",
    "    \n",
    "    J = J / m\n",
    "    \n",
    "    \n",
    "    return np.squeeze(J)    "
   ]
  },
  {
   "cell_type": "code",
   "execution_count": 48,
   "metadata": {},
   "outputs": [],
   "source": [
    "def back_prop(cache, X, Y, parameters):\n",
    "    \n",
    "    #layer 3(output layer)\n",
    "    \n",
    "    m = Y.shape[1]\n",
    "\n",
    "    dZ3 = cache['A3'] - Y\n",
    "    dW3 = ( dZ3 @ cache['A2'].T ) / m\n",
    "    db3 = np.sum(dZ3, axis=1, keepdims=True) / m\n",
    "    \n",
    "    #layer 2 (hidden layer 2)\n",
    "    \n",
    "    dZ2 = (parameters['W3'].T @ dZ3 ) * tanh_d (cache['Z2'])\n",
    "    dW2 = ( dZ2 @ cache['A1'].T ) / m\n",
    "    db2 = np.sum(dZ2, axis=1, keepdims=True) / m\n",
    "    \n",
    "    #layer 1 (hidden layer 1)\n",
    "    \n",
    "    dZ1 = (parameters['W2'].T @ dZ2) * tanh_d (cache['Z1'])\n",
    "    dW1 = ( dZ1 @ X.T ) / m \n",
    "    db1 = np.sum(dZ1, axis= 1, keepdims=True) / m\n",
    "    \n",
    "    grads={'dW3':dW3,\n",
    "           'db3':db3, \n",
    "           'dW2':dW2,\n",
    "           'db2':db2,\n",
    "           'dW1':dW1,\n",
    "           'db1':db1,}\n",
    "    \n",
    "    return grads"
   ]
  },
  {
   "cell_type": "code",
   "execution_count": 65,
   "metadata": {},
   "outputs": [],
   "source": [
    "def optimize(grads, parameters, learning_rate):\n",
    "    \n",
    "    \n",
    "    parameters['W1'] = parameters['W1'] - (learning_rate * grads['dW1'])\n",
    "    \n",
    "    parameters['b1'] = parameters['b1'] - (learning_rate * grads['db1'])\n",
    "        \n",
    "    parameters['W2'] = parameters['W2'] - (learning_rate * grads['dW2'])\n",
    "            \n",
    "    parameters['b2'] = parameters['b2'] - (learning_rate * grads['db2'])\n",
    "    \n",
    "    parameters['W3'] = parameters['W3'] - (learning_rate * grads['dW3'])\n",
    "        \n",
    "    parameters['b3'] = parameters['b3'] - (learning_rate * grads['db3'])\n",
    "    \n",
    "    \n",
    "    return parameters"
   ]
  },
  {
   "cell_type": "code",
   "execution_count": 66,
   "metadata": {},
   "outputs": [],
   "source": [
    "def predict(parameters, X):\n",
    "    \n",
    "    W1 = parameters['W1']\n",
    "    b1 = parameters['b1']\n",
    "    W2 = parameters['W2']\n",
    "    b2 = parameters['b2']\n",
    "    W3 = parameters['W3']\n",
    "    b3 = parameters['b3']\n",
    "    \n",
    "    Z1 = W1 @ X + b1    \n",
    "    \n",
    "    A1 = tanh (Z1)  \n",
    "    \n",
    "    #layer 2\n",
    "    Z2 = W2 @ A1 + b2\n",
    "    \n",
    "    A2 = tanh (Z2)\n",
    "    \n",
    "    #layer3(output layer)\n",
    "    Z3 = W3 @ A2 + b3\n",
    "    \n",
    "    A3 = sigmoid (Z3)\n",
    "    \n",
    "    return A3"
   ]
  },
  {
   "cell_type": "markdown",
   "metadata": {},
   "source": [
    "<h3>Training the model</h3>\n",
    "<h4>Modules:</h4>\n",
    "\n",
    "<li> def initialize_parameters (x,h1,h2,y):\n",
    "<li> def forward_prop (X, parameters) :\n",
    "<li> def cost_computation (A3, Y) :\n",
    "<li> def back_prop (cache, X, Y, parameters) :\n",
    "<li> def optimize (grads, parameters, learning_rate) :\n",
    "<li> def predict (parameters, X) :    "
   ]
  },
  {
   "cell_type": "code",
   "execution_count": 85,
   "metadata": {},
   "outputs": [
    {
     "data": {
      "image/png": "[encoded data removed]",
      "text/plain": [
       "<Figure size 432x288 with 1 Axes>"
      ]
     },
     "metadata": {
      "needs_background": "light"
     },
     "output_type": "display_data"
    }
   ],
   "source": [
    "nx = train_set_x.shape[0]\n",
    "\n",
    "parameters = initialize_parameters(nx,10,10,1)\n",
    "\n",
    "cost = list()\n",
    "\n",
    "n = 4000\n",
    "\n",
    "iterations = np.arange(n)\n",
    "\n",
    "for i in range(n):\n",
    "        \n",
    "    cache = forward_prop(train_set_x, parameters)\n",
    "    \n",
    "    cost.append(cost_computation(cache['A3'], train_y_array))\n",
    "    \n",
    "    grads = back_prop(cache, train_set_x, train_y_array, parameters)\n",
    "    \n",
    "    parameters = optimize (grads, parameters, 0.015)\n",
    "\n",
    "\n",
    "plt.plot(iterations, cost)\n",
    "\n",
    "plt.show()    "
   ]
  },
  {
   "cell_type": "markdown",
   "metadata": {},
   "source": [
    "The above step required some hyperparameter tuning. The model worked better on:\n",
    "<li> nh1 = nh2 = 10\n",
    "<li> Iterations = 5000"
   ]
  },
  {
   "cell_type": "markdown",
   "metadata": {},
   "source": [
    "<h3>Prediction </h3>\n",
    "<p>We predict and find accuracy on train data</p>"
   ]
  },
  {
   "cell_type": "code",
   "execution_count": 110,
   "metadata": {},
   "outputs": [],
   "source": [
    "out = predict(parameters, train_set_x)\n",
    "prediction = np.where(out > 0.5, 1, 0)\n",
    "accuracy = round(accuracy_score(train_y_array.T, prediction.T) * 100, 2)"
   ]
  },
  {
   "cell_type": "code",
   "execution_count": 111,
   "metadata": {},
   "outputs": [
    {
     "name": "stdout",
     "output_type": "stream",
     "text": [
      "The program provide 91.87 accuracy on train data\n"
     ]
    }
   ],
   "source": [
    "print('The program provide',accuracy,'accuracy on train data')"
   ]
  },
  {
   "cell_type": "markdown",
   "metadata": {},
   "source": [
    "<p>Now we use our test data and find out the accuracy on that</p>"
   ]
  },
  {
   "cell_type": "code",
   "execution_count": 121,
   "metadata": {},
   "outputs": [],
   "source": [
    "test_out = predict(parameters, test_set_x)\n",
    "test_prediction = np.where(test_out > 0.5, 1, 0).T\n",
    "accuracy = round(accuracy_score(test_y_array.T, test_prediction) * 100, 2)"
   ]
  },
  {
   "cell_type": "code",
   "execution_count": 122,
   "metadata": {},
   "outputs": [
    {
     "name": "stdout",
     "output_type": "stream",
     "text": [
      "On set test the model has accuracy: 80.0\n"
     ]
    }
   ],
   "source": [
    "print('On set test the model has accuracy:',accuracy)"
   ]
  },
  {
   "cell_type": "markdown",
   "metadata": {},
   "source": [
    "<h3>Visualizing Results</h3>"
   ]
  },
  {
   "cell_type": "code",
   "execution_count": 144,
   "metadata": {},
   "outputs": [
    {
     "name": "stdout",
     "output_type": "stream",
     "text": [
      "Y: 1 It is cat \n",
      "\n",
      "Model says it is cat\n"
     ]
    },
    {
     "data": {
      "image/png": "[encoded data removed]",
      "text/plain": [
       "<Figure size 432x288 with 1 Axes>"
      ]
     },
     "metadata": {
      "needs_background": "light"
     },
     "output_type": "display_data"
    }
   ],
   "source": [
    "index = np.random.randint(50)\n",
    "\n",
    "plt.imshow( test_x[index] )\n",
    "\n",
    "print('Y:',test_y[index],'It is',classes[test_y[index]],'\\n')\n",
    "\n",
    "print('Model says it is', classes[np.squeeze(test_prediction[index])])"
   ]
  },
  {
   "cell_type": "code",
   "execution_count": null,
   "metadata": {},
   "outputs": [],
   "source": []
  }
 ],
 "metadata": {
  "kernelspec": {
   "display_name": "Python 3",
   "language": "python",
   "name": "python3"
  },
  "language_info": {
   "codemirror_mode": {
    "name": "ipython",
    "version": 3
   },
   "file_extension": ".py",
   "mimetype": "text/x-python",
   "name": "python",
   "nbconvert_exporter": "python",
   "pygments_lexer": "ipython3",
   "version": "3.7.3"
  }
 },
 "nbformat": 4,
 "nbformat_minor": 2
}
