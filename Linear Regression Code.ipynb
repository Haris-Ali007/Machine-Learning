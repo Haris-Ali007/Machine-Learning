{
 "cells": [
  {
   "cell_type": "code",
   "execution_count": 2,
   "metadata": {},
   "outputs": [],
   "source": [
    "from sklearn import datasets\n",
    "import matplotlib.pyplot as plt\n",
    "import numpy as np\n",
    "import pandas as pd"
   ]
  },
  {
   "cell_type": "code",
   "execution_count": 3,
   "metadata": {},
   "outputs": [],
   "source": [
    "df=pd.read_csv(r\"C:\\Users\\Haris\\Desktop\\Python Files\\DataFile.txt\",names=['Size','Bed Rooms','Price in USD'])"
   ]
  },
  {
   "cell_type": "code",
   "execution_count": 4,
   "metadata": {
    "scrolled": true
   },
   "outputs": [
    {
     "data": {
      "text/html": [
       "<div>\n",
       "<style scoped>\n",
       "    .dataframe tbody tr th:only-of-type {\n",
       "        vertical-align: middle;\n",
       "    }\n",
       "\n",
       "    .dataframe tbody tr th {\n",
       "        vertical-align: top;\n",
       "    }\n",
       "\n",
       "    .dataframe thead th {\n",
       "        text-align: right;\n",
       "    }\n",
       "</style>\n",
       "<table border=\"1\" class=\"dataframe\">\n",
       "  <thead>\n",
       "    <tr style=\"text-align: right;\">\n",
       "      <th></th>\n",
       "      <th>Size</th>\n",
       "      <th>Bed Rooms</th>\n",
       "      <th>Price in USD</th>\n",
       "    </tr>\n",
       "  </thead>\n",
       "  <tbody>\n",
       "    <tr>\n",
       "      <th>0</th>\n",
       "      <td>2104</td>\n",
       "      <td>3</td>\n",
       "      <td>399900</td>\n",
       "    </tr>\n",
       "    <tr>\n",
       "      <th>1</th>\n",
       "      <td>1600</td>\n",
       "      <td>3</td>\n",
       "      <td>329900</td>\n",
       "    </tr>\n",
       "    <tr>\n",
       "      <th>2</th>\n",
       "      <td>2400</td>\n",
       "      <td>3</td>\n",
       "      <td>369000</td>\n",
       "    </tr>\n",
       "    <tr>\n",
       "      <th>3</th>\n",
       "      <td>1416</td>\n",
       "      <td>2</td>\n",
       "      <td>232000</td>\n",
       "    </tr>\n",
       "    <tr>\n",
       "      <th>4</th>\n",
       "      <td>3000</td>\n",
       "      <td>4</td>\n",
       "      <td>539900</td>\n",
       "    </tr>\n",
       "  </tbody>\n",
       "</table>\n",
       "</div>"
      ],
      "text/plain": [
       "   Size  Bed Rooms  Price in USD\n",
       "0  2104          3        399900\n",
       "1  1600          3        329900\n",
       "2  2400          3        369000\n",
       "3  1416          2        232000\n",
       "4  3000          4        539900"
      ]
     },
     "execution_count": 4,
     "metadata": {},
     "output_type": "execute_result"
    }
   ],
   "source": [
    "df.head()       #house prices dataset"
   ]
  },
  {
   "cell_type": "code",
   "execution_count": 5,
   "metadata": {},
   "outputs": [
    {
     "data": {
      "image/png": "[encoded data removed]",
      "text/plain": [
       "<Figure size 576x360 with 1 Axes>"
      ]
     },
     "metadata": {
      "needs_background": "light"
     },
     "output_type": "display_data"
    }
   ],
   "source": [
    "#here we will first visulaize both features effects on output\n",
    "plt.figure(figsize=(8,5))\n",
    "plt.scatter(df['Size'],df['Price in USD'],c='r',marker='x')\n",
    "plt.xlabel('Size')\n",
    "plt.ylabel('Price in USD')\n",
    "plt.show()"
   ]
  },
  {
   "cell_type": "code",
   "execution_count": 6,
   "metadata": {
    "scrolled": false
   },
   "outputs": [
    {
     "data": {
      "image/png": "[encoded data removed]",
      "text/plain": [
       "<Figure size 576x360 with 1 Axes>"
      ]
     },
     "metadata": {
      "needs_background": "light"
     },
     "output_type": "display_data"
    }
   ],
   "source": [
    "plt.figure(figsize=(8,5))\n",
    "plt.bar(df['Bed Rooms'],df['Price in USD'])\n",
    "plt.xlabel('Bed Rooms')\n",
    "plt.ylabel('Price in USD')\n",
    "plt.show()"
   ]
  },
  {
   "cell_type": "markdown",
   "metadata": {},
   "source": [
    "PREDICTION:\n",
    "\\begin{equation}\n",
    "h(x)= \\theta_0x_0+\\theta_1x_1+\\theta_2x_2\n",
    "\\end{equation}\n",
    "where x_0 is equal to 1"
   ]
  },
  {
   "cell_type": "markdown",
   "metadata": {},
   "source": [
    "COST FUNCTION:\n",
    "\\begin{equation}\n",
    "J(\\theta)= \\frac{1}{2m}\\sum_{i=1}^{m} (h(x)-y)^2\n",
    "\\end{equation}\n",
    "where $\\theta=(\\theta_0,\\theta_1......\\theta_n)$ and m is number of training examples"
   ]
  },
  {
   "cell_type": "markdown",
   "metadata": {},
   "source": [
    "GRADIENT DESCENT FOR ADJUSTING PARAMETERS:\n",
    "\\begin{equation}\n",
    "\\theta_j=\\theta_j-\\alpha\\frac{1}{m}\\sum_{i=1}^{m}(h(x)-y)x_j\n",
    "\\end{equation}\n",
    "where j is number of features and $\\alpha$ is learning rate"
   ]
  },
  {
   "cell_type": "code",
   "execution_count": 31,
   "metadata": {},
   "outputs": [],
   "source": [
    "X=np.array(df.loc[:,['Size','Bed Rooms']],dtype=float)\n",
    "Y=np.array(df.loc[:,'Price in USD'],dtype=float)"
   ]
  },
  {
   "cell_type": "code",
   "execution_count": 8,
   "metadata": {},
   "outputs": [],
   "source": [
    "#becuase of difference we perform normalization to scale our features\n",
    "def features_scaling(X):\n",
    "    X_norm=X\n",
    "    mean=[]\n",
    "    std=[]\n",
    "    for i in range(X.shape[1]):\n",
    "        mean.append(np.mean(X[:,i]))\n",
    "        std.append(np.std(X[:,i]))\n",
    "    for i in range(X.shape[1]):\n",
    "        X_norm[:,i]=(X_norm[:,i]-mean[i])/std[i]\n",
    "    return X_norm,mean,std"
   ]
  },
  {
   "cell_type": "code",
   "execution_count": 9,
   "metadata": {},
   "outputs": [],
   "source": [
    "def cost_computation(X,y,theta):\n",
    "    m=len(X)\n",
    "    h_pred=np.dot(X,theta)                             #here np.dot performs the vector matrix multiplication\n",
    "    diff=h_pred-y.reshape(m,1)\n",
    "    diff=np.square(diff)                \n",
    "    J_cost=(np.sum(diff))/(2*m)\n",
    "    return J_cost    "
   ]
  },
  {
   "cell_type": "code",
   "execution_count": 10,
   "metadata": {},
   "outputs": [],
   "source": [
    "def gradient_descent(X,y,theta,alpha,iterations):\n",
    "    m=len(X)\n",
    "    J_cost_list=[]\n",
    "    J_cost=0\n",
    "    for i in range(iterations): \n",
    "        h_pred=np.dot(X,theta)                             #h(x)=QT*x\n",
    "        diff=h_pred-y.reshape(m,1)                         #h(x)-y\n",
    "        diff=np.transpose(np.dot(np.transpose(diff),X))    #(h(x)-y)*x  #here transpose is applied for dimensions consistency\n",
    "        theta=theta-((alpha/m)*diff)                       \n",
    "        \n",
    "        J_cost=cost_computation(X,y,theta)             \n",
    "        J_cost_list.append(J_cost)                         #we record all costs to plot a graph and see the convergence\n",
    "    return theta,J_cost_list"
   ]
  },
  {
   "cell_type": "code",
   "execution_count": 32,
   "metadata": {},
   "outputs": [],
   "source": [
    "X_norm,means,stds=features_scaling(X)"
   ]
  },
  {
   "cell_type": "code",
   "execution_count": 33,
   "metadata": {},
   "outputs": [],
   "source": [
    "#here we add the ones column for our x0\n",
    "z=np.ones((X.shape[0],1))\n",
    "X_norm=np.append(z,X_norm,axis=1) "
   ]
  },
  {
   "cell_type": "code",
   "execution_count": 34,
   "metadata": {},
   "outputs": [
    {
     "data": {
      "text/plain": [
       "array([[0.],\n",
       "       [0.],\n",
       "       [0.]])"
      ]
     },
     "execution_count": 34,
     "metadata": {},
     "output_type": "execute_result"
    }
   ],
   "source": [
    "initial_theta=np.zeros((X_norm.shape[1],1))\n",
    "initial_theta"
   ]
  },
  {
   "cell_type": "code",
   "execution_count": 35,
   "metadata": {},
   "outputs": [],
   "source": [
    "new_theta,J_list=gradient_descent(X_norm,Y,initial_theta,0.01,1000)     #this will fit our data and return better thetas and cost"
   ]
  },
  {
   "cell_type": "markdown",
   "metadata": {},
   "source": [
    "With above computed thetas we can predict our result for some input. We can improve accuracy by adjusting learning rat eor by increasing iterations. Finally cost list can be plotted to see the convergence and improve our accuracy"
   ]
  },
  {
   "cell_type": "code",
   "execution_count": 36,
   "metadata": {},
   "outputs": [
    {
     "data": {
      "image/png": "[encoded data removed]",
      "text/plain": [
       "<Figure size 432x288 with 1 Axes>"
      ]
     },
     "metadata": {
      "needs_background": "light"
     },
     "output_type": "display_data"
    }
   ],
   "source": [
    "x=np.arange(len(J_list))\n",
    "plt.plot(x,J_list)\n",
    "plt.show()"
   ]
  },
  {
   "cell_type": "markdown",
   "metadata": {},
   "source": [
    "The above plot indicates decrease in cost which shows the working of gradient descent as it tries to locate global optima."
   ]
  },
  {
   "cell_type": "markdown",
   "metadata": {},
   "source": [
    "Prediction when Size=1650sqft and Rooms=3"
   ]
  },
  {
   "cell_type": "code",
   "execution_count": 41,
   "metadata": {},
   "outputs": [
    {
     "name": "stdout",
     "output_type": "stream",
     "text": [
      "House with size 1650sqft and Rooms 3 will have a cost 293221.87\n"
     ]
    }
   ],
   "source": [
    "x=np.array([1650,3])\n",
    "x_temp=(x-means)/stds                       #where means and stds are from the output of feature scaling function\n",
    "x_temp=x_temp.reshape(1,2)\n",
    "x_temp=np.append(np.ones((x_temp.shape[0],1)),x_temp,axis=1)\n",
    "h=np.dot(x_temp,new_theta)\n",
    "h=np.round(h.item(),2)\n",
    "print('House with size 1650sqft and Rooms 3 will have a cost',h)"
   ]
  }
 ],
 "metadata": {
  "kernelspec": {
   "display_name": "Python 3",
   "language": "python",
   "name": "python3"
  },
  "language_info": {
   "codemirror_mode": {
    "name": "ipython",
    "version": 3
   },
   "file_extension": ".py",
   "mimetype": "text/x-python",
   "name": "python",
   "nbconvert_exporter": "python",
   "pygments_lexer": "ipython3",
   "version": "3.7.3"
  }
 },
 "nbformat": 4,
 "nbformat_minor": 2
}
